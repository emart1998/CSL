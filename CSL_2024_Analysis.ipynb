{
 "cells": [
  {
   "cell_type": "code",
   "execution_count": 54,
   "metadata": {},
   "outputs": [],
   "source": [
    "#Import libraries\n",
    "import pandas as pd\n",
    "import numpy as np\n",
    "import matplotlib.pyplot as plt\n",
    "%matplotlib inline\n",
    "import seaborn as sns\n",
    "sns.set_style('whitegrid')\n"
   ]
  },
  {
   "cell_type": "code",
   "execution_count": 55,
   "metadata": {},
   "outputs": [],
   "source": [
    "#Loading data for analysis\n",
    "df = pd.read_excel('sample_data.xlsx')"
   ]
  },
  {
   "cell_type": "code",
   "execution_count": 56,
   "metadata": {},
   "outputs": [
    {
     "data": {
      "text/html": [
       "<div>\n",
       "<style scoped>\n",
       "    .dataframe tbody tr th:only-of-type {\n",
       "        vertical-align: middle;\n",
       "    }\n",
       "\n",
       "    .dataframe tbody tr th {\n",
       "        vertical-align: top;\n",
       "    }\n",
       "\n",
       "    .dataframe thead th {\n",
       "        text-align: right;\n",
       "    }\n",
       "</style>\n",
       "<table border=\"1\" class=\"dataframe\">\n",
       "  <thead>\n",
       "    <tr style=\"text-align: right;\">\n",
       "      <th></th>\n",
       "      <th>Team Member</th>\n",
       "      <th>Claim Number</th>\n",
       "      <th>State</th>\n",
       "      <th>Customer Name</th>\n",
       "      <th>Gender</th>\n",
       "      <th>Survey Score</th>\n",
       "      <th>Reason for Score</th>\n",
       "    </tr>\n",
       "  </thead>\n",
       "  <tbody>\n",
       "    <tr>\n",
       "      <th>0</th>\n",
       "      <td>Alice</td>\n",
       "      <td>CLM5655</td>\n",
       "      <td>PA</td>\n",
       "      <td>Customer44</td>\n",
       "      <td>Male</td>\n",
       "      <td>8</td>\n",
       "      <td>No Returned Calls</td>\n",
       "    </tr>\n",
       "    <tr>\n",
       "      <th>1</th>\n",
       "      <td>Alice</td>\n",
       "      <td>CLM9341</td>\n",
       "      <td>OH</td>\n",
       "      <td>Customer30</td>\n",
       "      <td>Female</td>\n",
       "      <td>9</td>\n",
       "      <td>Excellent service</td>\n",
       "    </tr>\n",
       "    <tr>\n",
       "      <th>2</th>\n",
       "      <td>Alice</td>\n",
       "      <td>CLM5501</td>\n",
       "      <td>NY</td>\n",
       "      <td>Customer21</td>\n",
       "      <td>Female</td>\n",
       "      <td>7</td>\n",
       "      <td>Very good service</td>\n",
       "    </tr>\n",
       "    <tr>\n",
       "      <th>3</th>\n",
       "      <td>Alice</td>\n",
       "      <td>CLM4674</td>\n",
       "      <td>IL</td>\n",
       "      <td>Customer28</td>\n",
       "      <td>Female</td>\n",
       "      <td>2</td>\n",
       "      <td>Claim Was Denied</td>\n",
       "    </tr>\n",
       "    <tr>\n",
       "      <th>4</th>\n",
       "      <td>Alice</td>\n",
       "      <td>CLM6748</td>\n",
       "      <td>TX</td>\n",
       "      <td>Customer99</td>\n",
       "      <td>Female</td>\n",
       "      <td>5</td>\n",
       "      <td>Average service</td>\n",
       "    </tr>\n",
       "    <tr>\n",
       "      <th>5</th>\n",
       "      <td>Alice</td>\n",
       "      <td>CLM2426</td>\n",
       "      <td>CA</td>\n",
       "      <td>Customer36</td>\n",
       "      <td>Female</td>\n",
       "      <td>8</td>\n",
       "      <td>No Returned Calls</td>\n",
       "    </tr>\n",
       "    <tr>\n",
       "      <th>6</th>\n",
       "      <td>Alice</td>\n",
       "      <td>CLM8757</td>\n",
       "      <td>FL</td>\n",
       "      <td>Customer96</td>\n",
       "      <td>Male</td>\n",
       "      <td>3</td>\n",
       "      <td>Bad service</td>\n",
       "    </tr>\n",
       "    <tr>\n",
       "      <th>7</th>\n",
       "      <td>Alice</td>\n",
       "      <td>CLM8219</td>\n",
       "      <td>NY</td>\n",
       "      <td>Customer22</td>\n",
       "      <td>Male</td>\n",
       "      <td>4</td>\n",
       "      <td>Poor service</td>\n",
       "    </tr>\n",
       "    <tr>\n",
       "      <th>8</th>\n",
       "      <td>Alice</td>\n",
       "      <td>CLM2821</td>\n",
       "      <td>TX</td>\n",
       "      <td>Customer91</td>\n",
       "      <td>Male</td>\n",
       "      <td>6</td>\n",
       "      <td>Good service</td>\n",
       "    </tr>\n",
       "    <tr>\n",
       "      <th>9</th>\n",
       "      <td>Alice</td>\n",
       "      <td>CLM8994</td>\n",
       "      <td>CA</td>\n",
       "      <td>Customer81</td>\n",
       "      <td>Male</td>\n",
       "      <td>8</td>\n",
       "      <td>No Returned Calls</td>\n",
       "    </tr>\n",
       "  </tbody>\n",
       "</table>\n",
       "</div>"
      ],
      "text/plain": [
       "  Team Member Claim Number State Customer Name  Gender  Survey Score  \\\n",
       "0       Alice      CLM5655    PA    Customer44    Male             8   \n",
       "1       Alice      CLM9341    OH    Customer30  Female             9   \n",
       "2       Alice      CLM5501    NY    Customer21  Female             7   \n",
       "3       Alice      CLM4674    IL    Customer28  Female             2   \n",
       "4       Alice      CLM6748    TX    Customer99  Female             5   \n",
       "5       Alice      CLM2426    CA    Customer36  Female             8   \n",
       "6       Alice      CLM8757    FL    Customer96    Male             3   \n",
       "7       Alice      CLM8219    NY    Customer22    Male             4   \n",
       "8       Alice      CLM2821    TX    Customer91    Male             6   \n",
       "9       Alice      CLM8994    CA    Customer81    Male             8   \n",
       "\n",
       "    Reason for Score  \n",
       "0  No Returned Calls  \n",
       "1  Excellent service  \n",
       "2  Very good service  \n",
       "3   Claim Was Denied  \n",
       "4    Average service  \n",
       "5  No Returned Calls  \n",
       "6        Bad service  \n",
       "7       Poor service  \n",
       "8       Good service  \n",
       "9  No Returned Calls  "
      ]
     },
     "execution_count": 56,
     "metadata": {},
     "output_type": "execute_result"
    }
   ],
   "source": [
    "# Loading the first 10 rows for quick review of columns and rows.\n",
    "df.head(10)"
   ]
  },
  {
   "cell_type": "code",
   "execution_count": 57,
   "metadata": {},
   "outputs": [
    {
     "name": "stdout",
     "output_type": "stream",
     "text": [
      "<class 'pandas.core.frame.DataFrame'>\n",
      "RangeIndex: 250 entries, 0 to 249\n",
      "Data columns (total 7 columns):\n",
      " #   Column            Non-Null Count  Dtype \n",
      "---  ------            --------------  ----- \n",
      " 0   Team Member       250 non-null    object\n",
      " 1   Claim Number      250 non-null    object\n",
      " 2   State             250 non-null    object\n",
      " 3   Customer Name     250 non-null    object\n",
      " 4   Gender            250 non-null    object\n",
      " 5   Survey Score      250 non-null    int64 \n",
      " 6   Reason for Score  250 non-null    object\n",
      "dtypes: int64(1), object(6)\n",
      "memory usage: 13.8+ KB\n"
     ]
    }
   ],
   "source": [
    "# Reviewing data for possible null values and checking data type.\n",
    "df.info()"
   ]
  },
  {
   "cell_type": "code",
   "execution_count": 58,
   "metadata": {},
   "outputs": [
    {
     "data": {
      "text/html": [
       "<div>\n",
       "<style scoped>\n",
       "    .dataframe tbody tr th:only-of-type {\n",
       "        vertical-align: middle;\n",
       "    }\n",
       "\n",
       "    .dataframe tbody tr th {\n",
       "        vertical-align: top;\n",
       "    }\n",
       "\n",
       "    .dataframe thead th {\n",
       "        text-align: right;\n",
       "    }\n",
       "</style>\n",
       "<table border=\"1\" class=\"dataframe\">\n",
       "  <thead>\n",
       "    <tr style=\"text-align: right;\">\n",
       "      <th></th>\n",
       "      <th>Survey Score</th>\n",
       "    </tr>\n",
       "  </thead>\n",
       "  <tbody>\n",
       "    <tr>\n",
       "      <th>count</th>\n",
       "      <td>250.000000</td>\n",
       "    </tr>\n",
       "    <tr>\n",
       "      <th>mean</th>\n",
       "      <td>5.752000</td>\n",
       "    </tr>\n",
       "    <tr>\n",
       "      <th>std</th>\n",
       "      <td>2.797463</td>\n",
       "    </tr>\n",
       "    <tr>\n",
       "      <th>min</th>\n",
       "      <td>1.000000</td>\n",
       "    </tr>\n",
       "    <tr>\n",
       "      <th>25%</th>\n",
       "      <td>3.000000</td>\n",
       "    </tr>\n",
       "    <tr>\n",
       "      <th>50%</th>\n",
       "      <td>6.000000</td>\n",
       "    </tr>\n",
       "    <tr>\n",
       "      <th>75%</th>\n",
       "      <td>8.000000</td>\n",
       "    </tr>\n",
       "    <tr>\n",
       "      <th>max</th>\n",
       "      <td>10.000000</td>\n",
       "    </tr>\n",
       "  </tbody>\n",
       "</table>\n",
       "</div>"
      ],
      "text/plain": [
       "       Survey Score\n",
       "count    250.000000\n",
       "mean       5.752000\n",
       "std        2.797463\n",
       "min        1.000000\n",
       "25%        3.000000\n",
       "50%        6.000000\n",
       "75%        8.000000\n",
       "max       10.000000"
      ]
     },
     "execution_count": 58,
     "metadata": {},
     "output_type": "execute_result"
    }
   ],
   "source": [
    "# Statistical analysis to get an idea of the data. Only Survey Score is showing because it is the only numerical column\n",
    "df.describe()"
   ]
  },
  {
   "cell_type": "code",
   "execution_count": 59,
   "metadata": {},
   "outputs": [],
   "source": [
    "# This will change the Score  to numbers for easier use in data analysis.\n",
    "df['Survey Score'] = df['Survey Score'].apply(lambda x: 1 if x >= 8 else 0)\n"
   ]
  },
  {
   "cell_type": "code",
   "execution_count": 60,
   "metadata": {},
   "outputs": [
    {
     "data": {
      "text/html": [
       "<div>\n",
       "<style scoped>\n",
       "    .dataframe tbody tr th:only-of-type {\n",
       "        vertical-align: middle;\n",
       "    }\n",
       "\n",
       "    .dataframe tbody tr th {\n",
       "        vertical-align: top;\n",
       "    }\n",
       "\n",
       "    .dataframe thead th {\n",
       "        text-align: right;\n",
       "    }\n",
       "</style>\n",
       "<table border=\"1\" class=\"dataframe\">\n",
       "  <thead>\n",
       "    <tr style=\"text-align: right;\">\n",
       "      <th></th>\n",
       "      <th>Team Member</th>\n",
       "      <th>Claim Number</th>\n",
       "      <th>State</th>\n",
       "      <th>Customer Name</th>\n",
       "      <th>Gender</th>\n",
       "      <th>Survey Score</th>\n",
       "      <th>Reason for Score</th>\n",
       "    </tr>\n",
       "  </thead>\n",
       "  <tbody>\n",
       "    <tr>\n",
       "      <th>0</th>\n",
       "      <td>Alice</td>\n",
       "      <td>CLM5655</td>\n",
       "      <td>PA</td>\n",
       "      <td>Customer44</td>\n",
       "      <td>Male</td>\n",
       "      <td>1</td>\n",
       "      <td>No Returned Calls</td>\n",
       "    </tr>\n",
       "    <tr>\n",
       "      <th>1</th>\n",
       "      <td>Alice</td>\n",
       "      <td>CLM9341</td>\n",
       "      <td>OH</td>\n",
       "      <td>Customer30</td>\n",
       "      <td>Female</td>\n",
       "      <td>1</td>\n",
       "      <td>Excellent service</td>\n",
       "    </tr>\n",
       "    <tr>\n",
       "      <th>2</th>\n",
       "      <td>Alice</td>\n",
       "      <td>CLM5501</td>\n",
       "      <td>NY</td>\n",
       "      <td>Customer21</td>\n",
       "      <td>Female</td>\n",
       "      <td>0</td>\n",
       "      <td>Very good service</td>\n",
       "    </tr>\n",
       "    <tr>\n",
       "      <th>3</th>\n",
       "      <td>Alice</td>\n",
       "      <td>CLM4674</td>\n",
       "      <td>IL</td>\n",
       "      <td>Customer28</td>\n",
       "      <td>Female</td>\n",
       "      <td>0</td>\n",
       "      <td>Claim Was Denied</td>\n",
       "    </tr>\n",
       "    <tr>\n",
       "      <th>4</th>\n",
       "      <td>Alice</td>\n",
       "      <td>CLM6748</td>\n",
       "      <td>TX</td>\n",
       "      <td>Customer99</td>\n",
       "      <td>Female</td>\n",
       "      <td>0</td>\n",
       "      <td>Average service</td>\n",
       "    </tr>\n",
       "    <tr>\n",
       "      <th>...</th>\n",
       "      <td>...</td>\n",
       "      <td>...</td>\n",
       "      <td>...</td>\n",
       "      <td>...</td>\n",
       "      <td>...</td>\n",
       "      <td>...</td>\n",
       "      <td>...</td>\n",
       "    </tr>\n",
       "    <tr>\n",
       "      <th>245</th>\n",
       "      <td>Eve</td>\n",
       "      <td>CLM9832</td>\n",
       "      <td>CA</td>\n",
       "      <td>Customer15</td>\n",
       "      <td>Male</td>\n",
       "      <td>0</td>\n",
       "      <td>Claim Was Denied</td>\n",
       "    </tr>\n",
       "    <tr>\n",
       "      <th>246</th>\n",
       "      <td>Eve</td>\n",
       "      <td>CLM8961</td>\n",
       "      <td>CT</td>\n",
       "      <td>Customer61</td>\n",
       "      <td>Male</td>\n",
       "      <td>0</td>\n",
       "      <td>Terrible service</td>\n",
       "    </tr>\n",
       "    <tr>\n",
       "      <th>247</th>\n",
       "      <td>Eve</td>\n",
       "      <td>CLM1072</td>\n",
       "      <td>IL</td>\n",
       "      <td>Customer78</td>\n",
       "      <td>Male</td>\n",
       "      <td>0</td>\n",
       "      <td>Very good service</td>\n",
       "    </tr>\n",
       "    <tr>\n",
       "      <th>248</th>\n",
       "      <td>Eve</td>\n",
       "      <td>CLM2046</td>\n",
       "      <td>TX</td>\n",
       "      <td>Customer27</td>\n",
       "      <td>Female</td>\n",
       "      <td>0</td>\n",
       "      <td>Very good service</td>\n",
       "    </tr>\n",
       "    <tr>\n",
       "      <th>249</th>\n",
       "      <td>Eve</td>\n",
       "      <td>CLM7572</td>\n",
       "      <td>CA</td>\n",
       "      <td>Customer20</td>\n",
       "      <td>Female</td>\n",
       "      <td>0</td>\n",
       "      <td>Poor service</td>\n",
       "    </tr>\n",
       "  </tbody>\n",
       "</table>\n",
       "<p>250 rows × 7 columns</p>\n",
       "</div>"
      ],
      "text/plain": [
       "    Team Member Claim Number State Customer Name  Gender  Survey Score  \\\n",
       "0         Alice      CLM5655    PA    Customer44    Male             1   \n",
       "1         Alice      CLM9341    OH    Customer30  Female             1   \n",
       "2         Alice      CLM5501    NY    Customer21  Female             0   \n",
       "3         Alice      CLM4674    IL    Customer28  Female             0   \n",
       "4         Alice      CLM6748    TX    Customer99  Female             0   \n",
       "..          ...          ...   ...           ...     ...           ...   \n",
       "245         Eve      CLM9832    CA    Customer15    Male             0   \n",
       "246         Eve      CLM8961    CT    Customer61    Male             0   \n",
       "247         Eve      CLM1072    IL    Customer78    Male             0   \n",
       "248         Eve      CLM2046    TX    Customer27  Female             0   \n",
       "249         Eve      CLM7572    CA    Customer20  Female             0   \n",
       "\n",
       "      Reason for Score  \n",
       "0    No Returned Calls  \n",
       "1    Excellent service  \n",
       "2    Very good service  \n",
       "3     Claim Was Denied  \n",
       "4      Average service  \n",
       "..                 ...  \n",
       "245   Claim Was Denied  \n",
       "246   Terrible service  \n",
       "247  Very good service  \n",
       "248  Very good service  \n",
       "249       Poor service  \n",
       "\n",
       "[250 rows x 7 columns]"
      ]
     },
     "execution_count": 60,
     "metadata": {},
     "output_type": "execute_result"
    }
   ],
   "source": [
    "df"
   ]
  },
  {
   "cell_type": "code",
   "execution_count": 61,
   "metadata": {},
   "outputs": [
    {
     "data": {
      "text/plain": [
       "Survey Score\n",
       "0    170\n",
       "1     80\n",
       "Name: count, dtype: int64"
      ]
     },
     "execution_count": 61,
     "metadata": {},
     "output_type": "execute_result"
    }
   ],
   "source": [
    "# This tells us  that the number of surveys under a score of 8 double the good surveys. \n",
    "df['Survey Score'].value_counts()"
   ]
  },
  {
   "cell_type": "code",
   "execution_count": 62,
   "metadata": {},
   "outputs": [
    {
     "name": "stderr",
     "output_type": "stream",
     "text": [
      "c:\\Users\\Chila\\anaconda3\\lib\\site-packages\\seaborn\\_decorators.py:36: FutureWarning: Pass the following variable as a keyword arg: x. From version 0.12, the only valid positional argument will be `data`, and passing other arguments without an explicit keyword will result in an error or misinterpretation.\n",
      "  warnings.warn(\n"
     ]
    },
    {
     "data": {
      "text/plain": [
       "<seaborn.axisgrid.FacetGrid at 0x209ea865160>"
      ]
     },
     "execution_count": 62,
     "metadata": {},
     "output_type": "execute_result"
    },
    {
     "data": {
      "image/png": "[encoded data removed]",
      "text/plain": [
       "<Figure size 360x360 with 1 Axes>"
      ]
     },
     "metadata": {},
     "output_type": "display_data"
    }
   ],
   "source": [
    "sns.catplot('Survey Score', data=df, kind='count')"
   ]
  },
  {
   "cell_type": "code",
   "execution_count": 63,
   "metadata": {},
   "outputs": [
    {
     "name": "stderr",
     "output_type": "stream",
     "text": [
      "c:\\Users\\Chila\\anaconda3\\lib\\site-packages\\seaborn\\_decorators.py:36: FutureWarning: Pass the following variable as a keyword arg: x. From version 0.12, the only valid positional argument will be `data`, and passing other arguments without an explicit keyword will result in an error or misinterpretation.\n",
      "  warnings.warn(\n"
     ]
    },
    {
     "data": {
      "text/plain": [
       "<seaborn.axisgrid.FacetGrid at 0x209f0ef9af0>"
      ]
     },
     "execution_count": 63,
     "metadata": {},
     "output_type": "execute_result"
    },
    {
     "data": {
      "image/png": "[encoded data removed]",
      "text/plain": [
       "<Figure size 360x360 with 1 Axes>"
      ]
     },
     "metadata": {},
     "output_type": "display_data"
    }
   ],
   "source": [
    "sns.catplot('Gender', data=df, kind='count')"
   ]
  },
  {
   "cell_type": "code",
   "execution_count": 64,
   "metadata": {},
   "outputs": [
    {
     "name": "stderr",
     "output_type": "stream",
     "text": [
      "c:\\Users\\Chila\\anaconda3\\lib\\site-packages\\seaborn\\_decorators.py:36: FutureWarning: Pass the following variable as a keyword arg: x. From version 0.12, the only valid positional argument will be `data`, and passing other arguments without an explicit keyword will result in an error or misinterpretation.\n",
      "  warnings.warn(\n"
     ]
    },
    {
     "data": {
      "text/plain": [
       "<seaborn.axisgrid.FacetGrid at 0x209f0effca0>"
      ]
     },
     "execution_count": 64,
     "metadata": {},
     "output_type": "execute_result"
    },
    {
     "data": {
      "image/png": "[encoded data removed]",
      "text/plain": [
       "<Figure size 441.05x360 with 1 Axes>"
      ]
     },
     "metadata": {},
     "output_type": "display_data"
    }
   ],
   "source": [
    "sns.catplot('Gender', data=df, kind='count',hue='Survey Score')"
   ]
  },
  {
   "cell_type": "code",
   "execution_count": 65,
   "metadata": {},
   "outputs": [],
   "source": [
    "df.rename(columns={'Team Member': 'Team_Member', 'Claim Number': 'Claim_Number', 'Customer Name': 'Customer', 'Survey Score': 'Score', 'Reason for Score': 'Reason'}, inplace=True)"
   ]
  },
  {
   "cell_type": "code",
   "execution_count": 66,
   "metadata": {},
   "outputs": [
    {
     "data": {
      "text/html": [
       "<div>\n",
       "<style scoped>\n",
       "    .dataframe tbody tr th:only-of-type {\n",
       "        vertical-align: middle;\n",
       "    }\n",
       "\n",
       "    .dataframe tbody tr th {\n",
       "        vertical-align: top;\n",
       "    }\n",
       "\n",
       "    .dataframe thead th {\n",
       "        text-align: right;\n",
       "    }\n",
       "</style>\n",
       "<table border=\"1\" class=\"dataframe\">\n",
       "  <thead>\n",
       "    <tr style=\"text-align: right;\">\n",
       "      <th></th>\n",
       "      <th>Team_Member</th>\n",
       "      <th>Claim_Number</th>\n",
       "      <th>State</th>\n",
       "      <th>Customer</th>\n",
       "      <th>Gender</th>\n",
       "      <th>Score</th>\n",
       "      <th>Reason</th>\n",
       "    </tr>\n",
       "  </thead>\n",
       "  <tbody>\n",
       "    <tr>\n",
       "      <th>0</th>\n",
       "      <td>Alice</td>\n",
       "      <td>CLM5655</td>\n",
       "      <td>PA</td>\n",
       "      <td>Customer44</td>\n",
       "      <td>Male</td>\n",
       "      <td>1</td>\n",
       "      <td>No Returned Calls</td>\n",
       "    </tr>\n",
       "    <tr>\n",
       "      <th>1</th>\n",
       "      <td>Alice</td>\n",
       "      <td>CLM9341</td>\n",
       "      <td>OH</td>\n",
       "      <td>Customer30</td>\n",
       "      <td>Female</td>\n",
       "      <td>1</td>\n",
       "      <td>Excellent service</td>\n",
       "    </tr>\n",
       "    <tr>\n",
       "      <th>2</th>\n",
       "      <td>Alice</td>\n",
       "      <td>CLM5501</td>\n",
       "      <td>NY</td>\n",
       "      <td>Customer21</td>\n",
       "      <td>Female</td>\n",
       "      <td>0</td>\n",
       "      <td>Very good service</td>\n",
       "    </tr>\n",
       "    <tr>\n",
       "      <th>3</th>\n",
       "      <td>Alice</td>\n",
       "      <td>CLM4674</td>\n",
       "      <td>IL</td>\n",
       "      <td>Customer28</td>\n",
       "      <td>Female</td>\n",
       "      <td>0</td>\n",
       "      <td>Claim Was Denied</td>\n",
       "    </tr>\n",
       "    <tr>\n",
       "      <th>4</th>\n",
       "      <td>Alice</td>\n",
       "      <td>CLM6748</td>\n",
       "      <td>TX</td>\n",
       "      <td>Customer99</td>\n",
       "      <td>Female</td>\n",
       "      <td>0</td>\n",
       "      <td>Average service</td>\n",
       "    </tr>\n",
       "    <tr>\n",
       "      <th>...</th>\n",
       "      <td>...</td>\n",
       "      <td>...</td>\n",
       "      <td>...</td>\n",
       "      <td>...</td>\n",
       "      <td>...</td>\n",
       "      <td>...</td>\n",
       "      <td>...</td>\n",
       "    </tr>\n",
       "    <tr>\n",
       "      <th>245</th>\n",
       "      <td>Eve</td>\n",
       "      <td>CLM9832</td>\n",
       "      <td>CA</td>\n",
       "      <td>Customer15</td>\n",
       "      <td>Male</td>\n",
       "      <td>0</td>\n",
       "      <td>Claim Was Denied</td>\n",
       "    </tr>\n",
       "    <tr>\n",
       "      <th>246</th>\n",
       "      <td>Eve</td>\n",
       "      <td>CLM8961</td>\n",
       "      <td>CT</td>\n",
       "      <td>Customer61</td>\n",
       "      <td>Male</td>\n",
       "      <td>0</td>\n",
       "      <td>Terrible service</td>\n",
       "    </tr>\n",
       "    <tr>\n",
       "      <th>247</th>\n",
       "      <td>Eve</td>\n",
       "      <td>CLM1072</td>\n",
       "      <td>IL</td>\n",
       "      <td>Customer78</td>\n",
       "      <td>Male</td>\n",
       "      <td>0</td>\n",
       "      <td>Very good service</td>\n",
       "    </tr>\n",
       "    <tr>\n",
       "      <th>248</th>\n",
       "      <td>Eve</td>\n",
       "      <td>CLM2046</td>\n",
       "      <td>TX</td>\n",
       "      <td>Customer27</td>\n",
       "      <td>Female</td>\n",
       "      <td>0</td>\n",
       "      <td>Very good service</td>\n",
       "    </tr>\n",
       "    <tr>\n",
       "      <th>249</th>\n",
       "      <td>Eve</td>\n",
       "      <td>CLM7572</td>\n",
       "      <td>CA</td>\n",
       "      <td>Customer20</td>\n",
       "      <td>Female</td>\n",
       "      <td>0</td>\n",
       "      <td>Poor service</td>\n",
       "    </tr>\n",
       "  </tbody>\n",
       "</table>\n",
       "<p>250 rows × 7 columns</p>\n",
       "</div>"
      ],
      "text/plain": [
       "    Team_Member Claim_Number State    Customer  Gender  Score  \\\n",
       "0         Alice      CLM5655    PA  Customer44    Male      1   \n",
       "1         Alice      CLM9341    OH  Customer30  Female      1   \n",
       "2         Alice      CLM5501    NY  Customer21  Female      0   \n",
       "3         Alice      CLM4674    IL  Customer28  Female      0   \n",
       "4         Alice      CLM6748    TX  Customer99  Female      0   \n",
       "..          ...          ...   ...         ...     ...    ...   \n",
       "245         Eve      CLM9832    CA  Customer15    Male      0   \n",
       "246         Eve      CLM8961    CT  Customer61    Male      0   \n",
       "247         Eve      CLM1072    IL  Customer78    Male      0   \n",
       "248         Eve      CLM2046    TX  Customer27  Female      0   \n",
       "249         Eve      CLM7572    CA  Customer20  Female      0   \n",
       "\n",
       "                Reason  \n",
       "0    No Returned Calls  \n",
       "1    Excellent service  \n",
       "2    Very good service  \n",
       "3     Claim Was Denied  \n",
       "4      Average service  \n",
       "..                 ...  \n",
       "245   Claim Was Denied  \n",
       "246   Terrible service  \n",
       "247  Very good service  \n",
       "248  Very good service  \n",
       "249       Poor service  \n",
       "\n",
       "[250 rows x 7 columns]"
      ]
     },
     "execution_count": 66,
     "metadata": {},
     "output_type": "execute_result"
    }
   ],
   "source": [
    "df"
   ]
  },
  {
   "cell_type": "code",
   "execution_count": 67,
   "metadata": {},
   "outputs": [
    {
     "data": {
      "text/plain": [
       "Team_Member\n",
       "Alice      0.28\n",
       "Bob        0.36\n",
       "Charlie    0.32\n",
       "David      0.32\n",
       "Eve        0.32\n",
       "Name: Score, dtype: float64"
      ]
     },
     "execution_count": 67,
     "metadata": {},
     "output_type": "execute_result"
    }
   ],
   "source": [
    "df.groupby('Team_Member')['Score'].mean()"
   ]
  },
  {
   "cell_type": "code",
   "execution_count": 68,
   "metadata": {},
   "outputs": [
    {
     "data": {
      "text/plain": [
       "Gender\n",
       "Female    118\n",
       "Male      132\n",
       "Name: Score, dtype: int64"
      ]
     },
     "execution_count": 68,
     "metadata": {},
     "output_type": "execute_result"
    }
   ],
   "source": [
    "# Male = 1, Female = 0\n",
    "df.groupby('Gender')['Score'].count()"
   ]
  },
  {
   "cell_type": "code",
   "execution_count": 69,
   "metadata": {},
   "outputs": [
    {
     "data": {
      "text/plain": [
       "Team_Member\n",
       "Alice      50\n",
       "Bob        50\n",
       "Charlie    50\n",
       "David      50\n",
       "Eve        50\n",
       "Name: Score, dtype: int64"
      ]
     },
     "execution_count": 69,
     "metadata": {},
     "output_type": "execute_result"
    }
   ],
   "source": [
    "df.groupby('Team_Member')['Score'].count()"
   ]
  },
  {
   "cell_type": "code",
   "execution_count": 70,
   "metadata": {},
   "outputs": [],
   "source": [
    "df_score = df[df['Score']< 8]"
   ]
  },
  {
   "cell_type": "code",
   "execution_count": 71,
   "metadata": {},
   "outputs": [
    {
     "data": {
      "text/html": [
       "<div>\n",
       "<style scoped>\n",
       "    .dataframe tbody tr th:only-of-type {\n",
       "        vertical-align: middle;\n",
       "    }\n",
       "\n",
       "    .dataframe tbody tr th {\n",
       "        vertical-align: top;\n",
       "    }\n",
       "\n",
       "    .dataframe thead th {\n",
       "        text-align: right;\n",
       "    }\n",
       "</style>\n",
       "<table border=\"1\" class=\"dataframe\">\n",
       "  <thead>\n",
       "    <tr style=\"text-align: right;\">\n",
       "      <th></th>\n",
       "      <th>Team_Member</th>\n",
       "      <th>Claim_Number</th>\n",
       "      <th>State</th>\n",
       "      <th>Customer</th>\n",
       "      <th>Gender</th>\n",
       "      <th>Score</th>\n",
       "      <th>Reason</th>\n",
       "    </tr>\n",
       "  </thead>\n",
       "  <tbody>\n",
       "    <tr>\n",
       "      <th>0</th>\n",
       "      <td>Alice</td>\n",
       "      <td>CLM5655</td>\n",
       "      <td>PA</td>\n",
       "      <td>Customer44</td>\n",
       "      <td>Male</td>\n",
       "      <td>1</td>\n",
       "      <td>No Returned Calls</td>\n",
       "    </tr>\n",
       "    <tr>\n",
       "      <th>1</th>\n",
       "      <td>Alice</td>\n",
       "      <td>CLM9341</td>\n",
       "      <td>OH</td>\n",
       "      <td>Customer30</td>\n",
       "      <td>Female</td>\n",
       "      <td>1</td>\n",
       "      <td>Excellent service</td>\n",
       "    </tr>\n",
       "    <tr>\n",
       "      <th>2</th>\n",
       "      <td>Alice</td>\n",
       "      <td>CLM5501</td>\n",
       "      <td>NY</td>\n",
       "      <td>Customer21</td>\n",
       "      <td>Female</td>\n",
       "      <td>0</td>\n",
       "      <td>Very good service</td>\n",
       "    </tr>\n",
       "    <tr>\n",
       "      <th>3</th>\n",
       "      <td>Alice</td>\n",
       "      <td>CLM4674</td>\n",
       "      <td>IL</td>\n",
       "      <td>Customer28</td>\n",
       "      <td>Female</td>\n",
       "      <td>0</td>\n",
       "      <td>Claim Was Denied</td>\n",
       "    </tr>\n",
       "    <tr>\n",
       "      <th>4</th>\n",
       "      <td>Alice</td>\n",
       "      <td>CLM6748</td>\n",
       "      <td>TX</td>\n",
       "      <td>Customer99</td>\n",
       "      <td>Female</td>\n",
       "      <td>0</td>\n",
       "      <td>Average service</td>\n",
       "    </tr>\n",
       "    <tr>\n",
       "      <th>...</th>\n",
       "      <td>...</td>\n",
       "      <td>...</td>\n",
       "      <td>...</td>\n",
       "      <td>...</td>\n",
       "      <td>...</td>\n",
       "      <td>...</td>\n",
       "      <td>...</td>\n",
       "    </tr>\n",
       "    <tr>\n",
       "      <th>245</th>\n",
       "      <td>Eve</td>\n",
       "      <td>CLM9832</td>\n",
       "      <td>CA</td>\n",
       "      <td>Customer15</td>\n",
       "      <td>Male</td>\n",
       "      <td>0</td>\n",
       "      <td>Claim Was Denied</td>\n",
       "    </tr>\n",
       "    <tr>\n",
       "      <th>246</th>\n",
       "      <td>Eve</td>\n",
       "      <td>CLM8961</td>\n",
       "      <td>CT</td>\n",
       "      <td>Customer61</td>\n",
       "      <td>Male</td>\n",
       "      <td>0</td>\n",
       "      <td>Terrible service</td>\n",
       "    </tr>\n",
       "    <tr>\n",
       "      <th>247</th>\n",
       "      <td>Eve</td>\n",
       "      <td>CLM1072</td>\n",
       "      <td>IL</td>\n",
       "      <td>Customer78</td>\n",
       "      <td>Male</td>\n",
       "      <td>0</td>\n",
       "      <td>Very good service</td>\n",
       "    </tr>\n",
       "    <tr>\n",
       "      <th>248</th>\n",
       "      <td>Eve</td>\n",
       "      <td>CLM2046</td>\n",
       "      <td>TX</td>\n",
       "      <td>Customer27</td>\n",
       "      <td>Female</td>\n",
       "      <td>0</td>\n",
       "      <td>Very good service</td>\n",
       "    </tr>\n",
       "    <tr>\n",
       "      <th>249</th>\n",
       "      <td>Eve</td>\n",
       "      <td>CLM7572</td>\n",
       "      <td>CA</td>\n",
       "      <td>Customer20</td>\n",
       "      <td>Female</td>\n",
       "      <td>0</td>\n",
       "      <td>Poor service</td>\n",
       "    </tr>\n",
       "  </tbody>\n",
       "</table>\n",
       "<p>250 rows × 7 columns</p>\n",
       "</div>"
      ],
      "text/plain": [
       "    Team_Member Claim_Number State    Customer  Gender  Score  \\\n",
       "0         Alice      CLM5655    PA  Customer44    Male      1   \n",
       "1         Alice      CLM9341    OH  Customer30  Female      1   \n",
       "2         Alice      CLM5501    NY  Customer21  Female      0   \n",
       "3         Alice      CLM4674    IL  Customer28  Female      0   \n",
       "4         Alice      CLM6748    TX  Customer99  Female      0   \n",
       "..          ...          ...   ...         ...     ...    ...   \n",
       "245         Eve      CLM9832    CA  Customer15    Male      0   \n",
       "246         Eve      CLM8961    CT  Customer61    Male      0   \n",
       "247         Eve      CLM1072    IL  Customer78    Male      0   \n",
       "248         Eve      CLM2046    TX  Customer27  Female      0   \n",
       "249         Eve      CLM7572    CA  Customer20  Female      0   \n",
       "\n",
       "                Reason  \n",
       "0    No Returned Calls  \n",
       "1    Excellent service  \n",
       "2    Very good service  \n",
       "3     Claim Was Denied  \n",
       "4      Average service  \n",
       "..                 ...  \n",
       "245   Claim Was Denied  \n",
       "246   Terrible service  \n",
       "247  Very good service  \n",
       "248  Very good service  \n",
       "249       Poor service  \n",
       "\n",
       "[250 rows x 7 columns]"
      ]
     },
     "execution_count": 71,
     "metadata": {},
     "output_type": "execute_result"
    }
   ],
   "source": [
    "df_score"
   ]
  },
  {
   "cell_type": "code",
   "execution_count": 72,
   "metadata": {},
   "outputs": [
    {
     "data": {
      "text/plain": [
       "Team_Member\n",
       "Alice      50\n",
       "Bob        50\n",
       "Charlie    50\n",
       "David      50\n",
       "Eve        50\n",
       "Name: Score, dtype: int64"
      ]
     },
     "execution_count": 72,
     "metadata": {},
     "output_type": "execute_result"
    }
   ],
   "source": [
    "df_score.groupby('Team_Member')['Score'].count()"
   ]
  },
  {
   "cell_type": "code",
   "execution_count": 73,
   "metadata": {},
   "outputs": [
    {
     "data": {
      "text/plain": [
       "Gender\n",
       "Female    118\n",
       "Male      132\n",
       "Name: Score, dtype: int64"
      ]
     },
     "execution_count": 73,
     "metadata": {},
     "output_type": "execute_result"
    }
   ],
   "source": [
    "df_score.groupby('Gender')['Score'].count()"
   ]
  },
  {
   "cell_type": "code",
   "execution_count": 74,
   "metadata": {},
   "outputs": [
    {
     "data": {
      "text/plain": [
       "State\n",
       "CA    47\n",
       "CT    22\n",
       "FL    15\n",
       "GA    24\n",
       "IL    23\n",
       "NY    43\n",
       "OH    23\n",
       "PA    20\n",
       "TX    33\n",
       "Name: Score, dtype: int64"
      ]
     },
     "execution_count": 74,
     "metadata": {},
     "output_type": "execute_result"
    }
   ],
   "source": [
    "df.groupby('State')['Score'].count()"
   ]
  },
  {
   "cell_type": "code",
   "execution_count": 75,
   "metadata": {},
   "outputs": [
    {
     "data": {
      "text/plain": [
       "Reason\n",
       "Average service        20\n",
       "Bad service            27\n",
       "Claim Was Denied       21\n",
       "Excellent service      34\n",
       "Good service           22\n",
       "No Returned Calls      27\n",
       "Outstanding service    19\n",
       "Poor service           21\n",
       "Terrible service       21\n",
       "Very good service      38\n",
       "Name: Score, dtype: int64"
      ]
     },
     "execution_count": 75,
     "metadata": {},
     "output_type": "execute_result"
    }
   ],
   "source": [
    "# Count of reasons for score given\n",
    "df.groupby('Reason')['Score'].count()"
   ]
  },
  {
   "cell_type": "code",
   "execution_count": 76,
   "metadata": {},
   "outputs": [
    {
     "data": {
      "text/plain": [
       "Reason\n",
       "Average service        20\n",
       "Bad service            27\n",
       "Claim Was Denied       21\n",
       "Excellent service      34\n",
       "Good service           22\n",
       "No Returned Calls      27\n",
       "Outstanding service    19\n",
       "Poor service           21\n",
       "Terrible service       21\n",
       "Very good service      38\n",
       "Name: Score, dtype: int64"
      ]
     },
     "execution_count": 76,
     "metadata": {},
     "output_type": "execute_result"
    }
   ],
   "source": [
    "# Scores less than a 6. management claims the main reason for los score is \"No returned calls\" not on the list.\n",
    "df_score.groupby('Reason')['Score'].count()"
   ]
  },
  {
   "cell_type": "code",
   "execution_count": 77,
   "metadata": {},
   "outputs": [
    {
     "data": {
      "text/plain": [
       "<AxesSubplot:xlabel='Score', ylabel='Reason'>"
      ]
     },
     "execution_count": 77,
     "metadata": {},
     "output_type": "execute_result"
    },
    {
     "data": {
      "image/png": "[encoded data removed]",
      "text/plain": [
       "<Figure size 432x288 with 1 Axes>"
      ]
     },
     "metadata": {},
     "output_type": "display_data"
    }
   ],
   "source": [
    "sns.scatterplot(x=\"Score\", y=\"Reason\", data=df_score)"
   ]
  },
  {
   "cell_type": "code",
   "execution_count": 78,
   "metadata": {},
   "outputs": [
    {
     "data": {
      "text/plain": [
       "<AxesSubplot:xlabel='Score', ylabel='Count'>"
      ]
     },
     "execution_count": 78,
     "metadata": {},
     "output_type": "execute_result"
    },
    {
     "data": {
      "image/png": "[encoded data removed]",
      "text/plain": [
       "<Figure size 432x288 with 1 Axes>"
      ]
     },
     "metadata": {},
     "output_type": "display_data"
    }
   ],
   "source": [
    "sns.histplot(df_score['Score'], kde=True, bins=15)"
   ]
  },
  {
   "cell_type": "code",
   "execution_count": 79,
   "metadata": {},
   "outputs": [
    {
     "data": {
      "text/plain": [
       "<AxesSubplot:xlabel='Gender', ylabel='Score'>"
      ]
     },
     "execution_count": 79,
     "metadata": {},
     "output_type": "execute_result"
    },
    {
     "data": {
      "image/png": "[encoded data removed]",
      "text/plain": [
       "<Figure size 432x288 with 1 Axes>"
      ]
     },
     "metadata": {},
     "output_type": "display_data"
    }
   ],
   "source": [
    "sns.barplot(x='Gender', y='Score', data=df_score, palette='YlGnBu')"
   ]
  },
  {
   "cell_type": "code",
   "execution_count": 80,
   "metadata": {},
   "outputs": [
    {
     "data": {
      "text/html": [
       "<div>\n",
       "<style scoped>\n",
       "    .dataframe tbody tr th:only-of-type {\n",
       "        vertical-align: middle;\n",
       "    }\n",
       "\n",
       "    .dataframe tbody tr th {\n",
       "        vertical-align: top;\n",
       "    }\n",
       "\n",
       "    .dataframe thead th {\n",
       "        text-align: right;\n",
       "    }\n",
       "</style>\n",
       "<table border=\"1\" class=\"dataframe\">\n",
       "  <thead>\n",
       "    <tr style=\"text-align: right;\">\n",
       "      <th></th>\n",
       "      <th>Gender</th>\n",
       "      <th>Score</th>\n",
       "      <th>Reason</th>\n",
       "    </tr>\n",
       "  </thead>\n",
       "  <tbody>\n",
       "    <tr>\n",
       "      <th>0</th>\n",
       "      <td>Male</td>\n",
       "      <td>1</td>\n",
       "      <td>No Returned Calls</td>\n",
       "    </tr>\n",
       "    <tr>\n",
       "      <th>1</th>\n",
       "      <td>Female</td>\n",
       "      <td>1</td>\n",
       "      <td>Excellent service</td>\n",
       "    </tr>\n",
       "    <tr>\n",
       "      <th>2</th>\n",
       "      <td>Female</td>\n",
       "      <td>0</td>\n",
       "      <td>Very good service</td>\n",
       "    </tr>\n",
       "    <tr>\n",
       "      <th>3</th>\n",
       "      <td>Female</td>\n",
       "      <td>0</td>\n",
       "      <td>Claim Was Denied</td>\n",
       "    </tr>\n",
       "    <tr>\n",
       "      <th>4</th>\n",
       "      <td>Female</td>\n",
       "      <td>0</td>\n",
       "      <td>Average service</td>\n",
       "    </tr>\n",
       "    <tr>\n",
       "      <th>...</th>\n",
       "      <td>...</td>\n",
       "      <td>...</td>\n",
       "      <td>...</td>\n",
       "    </tr>\n",
       "    <tr>\n",
       "      <th>245</th>\n",
       "      <td>Male</td>\n",
       "      <td>0</td>\n",
       "      <td>Claim Was Denied</td>\n",
       "    </tr>\n",
       "    <tr>\n",
       "      <th>246</th>\n",
       "      <td>Male</td>\n",
       "      <td>0</td>\n",
       "      <td>Terrible service</td>\n",
       "    </tr>\n",
       "    <tr>\n",
       "      <th>247</th>\n",
       "      <td>Male</td>\n",
       "      <td>0</td>\n",
       "      <td>Very good service</td>\n",
       "    </tr>\n",
       "    <tr>\n",
       "      <th>248</th>\n",
       "      <td>Female</td>\n",
       "      <td>0</td>\n",
       "      <td>Very good service</td>\n",
       "    </tr>\n",
       "    <tr>\n",
       "      <th>249</th>\n",
       "      <td>Female</td>\n",
       "      <td>0</td>\n",
       "      <td>Poor service</td>\n",
       "    </tr>\n",
       "  </tbody>\n",
       "</table>\n",
       "<p>250 rows × 3 columns</p>\n",
       "</div>"
      ],
      "text/plain": [
       "     Gender  Score             Reason\n",
       "0      Male      1  No Returned Calls\n",
       "1    Female      1  Excellent service\n",
       "2    Female      0  Very good service\n",
       "3    Female      0   Claim Was Denied\n",
       "4    Female      0    Average service\n",
       "..      ...    ...                ...\n",
       "245    Male      0   Claim Was Denied\n",
       "246    Male      0   Terrible service\n",
       "247    Male      0  Very good service\n",
       "248  Female      0  Very good service\n",
       "249  Female      0       Poor service\n",
       "\n",
       "[250 rows x 3 columns]"
      ]
     },
     "execution_count": 80,
     "metadata": {},
     "output_type": "execute_result"
    }
   ],
   "source": [
    "columns_to_drop = ['Team_Member', 'Claim_Number','Customer','State']\n",
    "df_test = df.drop(columns=columns_to_drop)\n",
    "df_test"
   ]
  },
  {
   "cell_type": "code",
   "execution_count": 81,
   "metadata": {},
   "outputs": [
    {
     "name": "stderr",
     "output_type": "stream",
     "text": [
      "c:\\Users\\Chila\\anaconda3\\lib\\site-packages\\seaborn\\_decorators.py:36: FutureWarning: Pass the following variable as a keyword arg: x. From version 0.12, the only valid positional argument will be `data`, and passing other arguments without an explicit keyword will result in an error or misinterpretation.\n",
      "  warnings.warn(\n"
     ]
    },
    {
     "data": {
      "text/plain": [
       "<seaborn.axisgrid.FacetGrid at 0x209f114bca0>"
      ]
     },
     "execution_count": 81,
     "metadata": {},
     "output_type": "execute_result"
    },
    {
     "data": {
      "image/png": "[encoded data removed]",
      "text/plain": [
       "<Figure size 405.725x360 with 1 Axes>"
      ]
     },
     "metadata": {},
     "output_type": "display_data"
    }
   ],
   "source": [
    "sns.catplot('Gender',data=df, kind='count',hue='Score')"
   ]
  },
  {
   "cell_type": "code",
   "execution_count": 83,
   "metadata": {},
   "outputs": [
    {
     "data": {
      "text/plain": [
       "<seaborn.axisgrid.FacetGrid at 0x209f103c1f0>"
      ]
     },
     "execution_count": 83,
     "metadata": {},
     "output_type": "execute_result"
    },
    {
     "data": {
      "image/png": "[encoded data removed]",
      "text/plain": [
       "<Figure size 405.725x360 with 1 Axes>"
      ]
     },
     "metadata": {},
     "output_type": "display_data"
    }
   ],
   "source": [
    "sns.catplot('Team_Member',data=df, kind='count',hue='Score')"
   ]
  },
  {
   "cell_type": "code",
   "execution_count": 92,
   "metadata": {},
   "outputs": [
    {
     "name": "stderr",
     "output_type": "stream",
     "text": [
      "c:\\Users\\Chila\\anaconda3\\lib\\site-packages\\seaborn\\_decorators.py:36: FutureWarning: Pass the following variable as a keyword arg: x. From version 0.12, the only valid positional argument will be `data`, and passing other arguments without an explicit keyword will result in an error or misinterpretation.\n",
      "  warnings.warn(\n"
     ]
    },
    {
     "data": {
      "text/plain": [
       "<seaborn.axisgrid.FacetGrid at 0x209f1116850>"
      ]
     },
     "execution_count": 92,
     "metadata": {},
     "output_type": "execute_result"
    },
    {
     "data": {
      "image/png": "[encoded data removed]",
      "text/plain": [
       "<Figure size 405.725x360 with 1 Axes>"
      ]
     },
     "metadata": {},
     "output_type": "display_data"
    }
   ],
   "source": [
    "sns.catplot('Reason',data=df, kind='count',hue='Score')"
   ]
  },
  {
   "cell_type": "code",
   "execution_count": 90,
   "metadata": {},
   "outputs": [
    {
     "name": "stderr",
     "output_type": "stream",
     "text": [
      "c:\\Users\\Chila\\anaconda3\\lib\\site-packages\\seaborn\\_decorators.py:36: FutureWarning: Pass the following variable as a keyword arg: x. From version 0.12, the only valid positional argument will be `data`, and passing other arguments without an explicit keyword will result in an error or misinterpretation.\n",
      "  warnings.warn(\n"
     ]
    },
    {
     "ename": "AttributeError",
     "evalue": "'FacetGrid' object has no attribute 'show'",
     "output_type": "error",
     "traceback": [
      "\u001b[1;31m---------------------------------------------------------------------------\u001b[0m",
      "\u001b[1;31mAttributeError\u001b[0m                            Traceback (most recent call last)",
      "\u001b[1;32m<ipython-input-90-815c7e5c6133>\u001b[0m in \u001b[0;36m<module>\u001b[1;34m\u001b[0m\n\u001b[0;32m      1\u001b[0m \u001b[0mplot\u001b[0m \u001b[1;33m=\u001b[0m \u001b[0msns\u001b[0m\u001b[1;33m.\u001b[0m\u001b[0mcatplot\u001b[0m\u001b[1;33m(\u001b[0m\u001b[1;34m'Reason'\u001b[0m\u001b[1;33m,\u001b[0m\u001b[0mdata\u001b[0m\u001b[1;33m=\u001b[0m\u001b[0mdf\u001b[0m\u001b[1;33m,\u001b[0m \u001b[0mkind\u001b[0m\u001b[1;33m=\u001b[0m\u001b[1;34m'count'\u001b[0m\u001b[1;33m,\u001b[0m\u001b[0mhue\u001b[0m\u001b[1;33m=\u001b[0m\u001b[1;34m'Score'\u001b[0m\u001b[1;33m)\u001b[0m\u001b[1;33m\u001b[0m\u001b[1;33m\u001b[0m\u001b[0m\n\u001b[0;32m      2\u001b[0m \u001b[0mplot\u001b[0m\u001b[1;33m.\u001b[0m\u001b[0mset_xticklabels\u001b[0m\u001b[1;33m(\u001b[0m\u001b[0mrotation\u001b[0m\u001b[1;33m=\u001b[0m\u001b[1;36m45\u001b[0m\u001b[1;33m)\u001b[0m\u001b[1;33m\u001b[0m\u001b[1;33m\u001b[0m\u001b[0m\n\u001b[1;32m----> 3\u001b[1;33m \u001b[0mplot\u001b[0m\u001b[1;33m.\u001b[0m\u001b[0mshow\u001b[0m\u001b[1;33m(\u001b[0m\u001b[1;33m)\u001b[0m\u001b[1;33m\u001b[0m\u001b[1;33m\u001b[0m\u001b[0m\n\u001b[0m",
      "\u001b[1;31mAttributeError\u001b[0m: 'FacetGrid' object has no attribute 'show'"
     ]
    },
    {
     "data": {
      "image/png": "[encoded data removed]",
      "text/plain": [
       "<Figure size 405.725x360 with 1 Axes>"
      ]
     },
     "metadata": {},
     "output_type": "display_data"
    }
   ],
   "source": [
    "plot = sns.catplot('Reason',data=df, kind='count',hue='Score')\n",
    "plot.set_xticklabels(rotation=45)\n",
    "plot.show()"
   ]
  },
  {
   "cell_type": "code",
   "execution_count": null,
   "metadata": {},
   "outputs": [],
   "source": []
  }
 ],
 "metadata": {
  "kernelspec": {
   "display_name": "base",
   "language": "python",
   "name": "python3"
  },
  "language_info": {
   "codemirror_mode": {
    "name": "ipython",
    "version": 3
   },
   "file_extension": ".py",
   "mimetype": "text/x-python",
   "name": "python",
   "nbconvert_exporter": "python",
   "pygments_lexer": "ipython3",
   "version": "3.8.8"
  }
 },
 "nbformat": 4,
 "nbformat_minor": 2
}
